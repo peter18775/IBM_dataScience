{
  "metadata": {
    "language_info": {
      "codemirror_mode": {
        "name": "python",
        "version": 3
      },
      "file_extension": ".py",
      "mimetype": "text/x-python",
      "name": "python",
      "nbconvert_exporter": "python",
      "pygments_lexer": "ipython3",
      "version": "3.8"
    },
    "kernelspec": {
      "name": "python",
      "display_name": "Python (Pyodide)",
      "language": "python"
    }
  },
  "nbformat_minor": 4,
  "nbformat": 4,
  "cells": [
    {
      "cell_type": "markdown",
      "source": "1. Analytical Approach- \n \n Since in countries where technology boom is a rising trend but due to huge population density eg( India - 1.4B, China-1.41B), a huge amount of data is collected on many different areas such as  - Weather, health Insurance, locality of person, dietary habits and working conditions of the person etc, are regularly collected by the govt bodies, and private institutions and meta deta is collected on groups of people and can be classified on the basis of susceptibility of diseases. For example, lower wages working class people , who work on fields and travel by bicycles to commute daily and live in remote areas far away from big cities tend to have better immunity to fight diseases and are far less susceptible to genetic abnormalities passed down such as cancer, however, people living in big cities and working desk jobs tend to have health insurance that cover all kinds of damages, and they have ability to pay more to health instructors, as well as eat higher quality of foods. On an avg city people working in corps are more stressed about jobs that has negative affects on health. \n \n Such a vast data is required to be analysed sicerely and new Models need to be created in order to \n a. Classify :\n Classifcation of general population in order to realise which group(s) of people need urgent health care and aid, how a perticular group is effectively battling a disease and what changes need to be done in order to help less fortunate groups.\n b. Prediction:\n Prediction of future/uncommon (deadly) diseases such as SARS, Ebola will spread and can be controlled using data of previous pandemics throughout the nation.\n c. Cost cutting:\n Intelligent cost effective measures can be taken when above 2 requirements are fullfilled sincerely.",
      "metadata": {}
    },
    {
      "cell_type": "markdown",
      "source": "2. Data Requirements - \n\nIn order to fullfil the Problem Statement and satisfy analytical approach we need huge amount data and past records to be collected using big data tech and need to be studied further. The requirements require following data - \na. Health insurance coverage/Aid:\nb. Type of specialists consulted (Past medical history) in previous years.\nc. location of individual (To determine - polution level, hygine conditions, O2 level in area, etc)\nd. Expenditure of money on health care (Eg. diet, Alcohol, tobaco, exercise etc.)\ne. Job that one employs - to gather data on mental stress.",
      "metadata": {}
    },
    {
      "cell_type": "markdown",
      "source": "3. Data Collection - \n\nIn the Tech boom in recent years the following methods cn be implented and should be implemented to Gather this vast amount of data.\na. Fitness Band - Collection of data in the last 5 years to determine, heart rate and Exercise routines etc.\nb. Pollution Level, Hygiene conditions and accumulations of rodents, pigs dogs etc... All these data can be collected from public records and governmental data.\nc. Medical Records for paitents can be collected from a unified DB from hospitals.\nd. Occupational data can be collected from the Income Tax offices or from employment records mandate by the govt, to know the physical nature of job.\ne. Past Records from Pandemic Era.\nf. Vaccination records. \n\nMany more........",
      "metadata": {}
    },
    {
      "cell_type": "markdown",
      "source": "4. Data Understanding and Preparation -\n\nDAta needs to be understood and prepared with thne help of Biologists, epidemeologist, hyginests, Health care experts, Doctors and Reseach staff. These Data need to be understand to full extent and prepared in a numerical format which will create an insight for the data scientists. ",
      "metadata": {}
    },
    {
      "cell_type": "markdown",
      "source": "5. Modelling and Evaluation - \n\nML models need to be created for the following reasons- \na. Classify :\n Classifcation of general population in order to realise which group(s) of people need urgent health care and aid, how a perticular group is effectively battling a disease and what changes need to be done in order to help less fortunate groups.\n b. Prediction:\n Prediction of future/uncommon (deadly) diseases such as SARS, Ebola will spread and can be controlled using data of previous pandemics throughout the nation.\n c. Cost cutting:\n Intelligent cost effective measures can be taken when above 2 requirements are fullfilled sincerely and Medicine distribution can be conrolled using the models created.",
      "metadata": {}
    }
  ]
}